{
 "cells": [
  {
   "cell_type": "code",
   "execution_count": null,
   "metadata": {},
   "outputs": [],
   "source": [
    "!conda install pandas"
   ]
  },
  {
   "cell_type": "code",
   "execution_count": null,
   "metadata": {},
   "outputs": [],
   "source": [
    "# import the functions/libraries you will need here"
   ]
  },
  {
   "cell_type": "markdown",
   "metadata": {},
   "source": [
    "### 1  \n",
    "$(a)$ Using the list defined below called `a`. Print each of the elements that have a value less than 10"
   ]
  },
  {
   "cell_type": "code",
   "execution_count": 7,
   "metadata": {},
   "outputs": [
    {
     "name": "stdout",
     "output_type": "stream",
     "text": [
      "1\n",
      "1\n",
      "2\n",
      "3\n",
      "5\n",
      "8\n"
     ]
    }
   ],
   "source": [
    "a=[1,1,2,3,5,8, 13, 21, 34, 55, 89] \n",
    "for i in a : \n",
    "    if i < 10 :\n",
    "        print(i)"
   ]
  },
  {
   "cell_type": "markdown",
   "metadata": {},
   "source": [
    "$(b)$ Now using the same list `a` create a new list named `b` that contains all of the values greater than or equal to 10"
   ]
  },
  {
   "cell_type": "code",
   "execution_count": 21,
   "metadata": {},
   "outputs": [
    {
     "name": "stdout",
     "output_type": "stream",
     "text": [
      "[13, 21, 34, 55, 89]\n"
     ]
    }
   ],
   "source": [
    "b = []\n",
    "for item in a:\n",
    "    if item >= 10:\n",
    "        b.append(item)\n",
    "print(b)\n",
    "    "
   ]
  },
  {
   "cell_type": "markdown",
   "metadata": {},
   "source": [
    "$(c)$ Now define functions that can do the same things in 1 and 2 but with any list given"
   ]
  },
  {
   "cell_type": "code",
   "execution_count": 45,
   "metadata": {},
   "outputs": [
    {
     "name": "stdout",
     "output_type": "stream",
     "text": [
      "1\n",
      "2\n",
      "3\n",
      "4\n",
      "5\n",
      "1\n",
      "2\n",
      "[11]\n",
      "[11, 13]\n"
     ]
    }
   ],
   "source": [
    "some_list = [1, 2, 3, 4, 5]\n",
    "def list_ops(list):\n",
    "    for i in list :\n",
    "        if i < 10 :\n",
    "            print(i)\n",
    "list_ops(some_list)\n",
    "c = [1, 11, 13, 2]\n",
    "list_ops(c)\n",
    "\n",
    "d = []\n",
    "def list_ops2(list):\n",
    "    for item in list:\n",
    "        if item >= 10:\n",
    "            d.append(item)\n",
    "            print(d)\n",
    "list_ops2(c)\n",
    "\n"
   ]
  },
  {
   "cell_type": "markdown",
   "metadata": {},
   "source": [
    "$(d)$ Using the list of lists called `c` defined below. Make a new list called `d` that contains all of the numbers between 5 and 45"
   ]
  },
  {
   "cell_type": "code",
   "execution_count": 308,
   "metadata": {},
   "outputs": [
    {
     "name": "stdout",
     "output_type": "stream",
     "text": [
      "[12, 7, 23, 12, 17, 43, 9]\n"
     ]
    }
   ],
   "source": [
    "c = [[1,1,12],[2,3,7,23],[54,12,17,90],[43,52,67,9]]\n",
    "d = []\n",
    "for y in c:\n",
    "    for x in y :\n",
    "        if x in range(5, 45) :\n",
    "            d.append(x)\n",
    "print(d)\n",
    "\n",
    "\n"
   ]
  },
  {
   "cell_type": "markdown",
   "metadata": {},
   "source": [
    "$(e)$ Define a function that will do the process above for any given list of lists"
   ]
  },
  {
   "cell_type": "code",
   "execution_count": 316,
   "metadata": {},
   "outputs": [
    {
     "name": "stdout",
     "output_type": "stream",
     "text": [
      "[12, 7, 23, 12, 17, 43, 9]\n"
     ]
    }
   ],
   "source": [
    "c = [[1,1,12],[2,3,7,23],[54,12,17,90],[43,52,67,9]]\n",
    "d = []\n",
    "def my_function(list) :\n",
    "    for y in list:\n",
    "        for x in y :\n",
    "            if x in range(5, 45) :\n",
    "                d.append(x)\n",
    "my_function(c)\n",
    "print(d)\n",
    "\n",
    "\n",
    "    \n",
    "    "
   ]
  },
  {
   "cell_type": "markdown",
   "metadata": {},
   "source": [
    "$(f)$ Define a function that takes a list of integers and prints the cumulative sum of integers that are greater than or equal to 10. You should be able to use a function you made previously"
   ]
  },
  {
   "cell_type": "code",
   "execution_count": 356,
   "metadata": {},
   "outputs": [
    {
     "name": "stdout",
     "output_type": "stream",
     "text": [
      "26\n"
     ]
    }
   ],
   "source": [
    "c = [9, 12, 14, 8]\n",
    "def sum_list(list_) :\n",
    "    t = 0\n",
    "    for x in list_:\n",
    "        if x > 10 :\n",
    "            t = t + x\n",
    "    return t\n",
    "total=sum_list(c)\n",
    "print(total)\n",
    "        \n"
   ]
  },
  {
   "cell_type": "markdown",
   "metadata": {},
   "source": [
    "$(g)$ Define a function that takes a list of integers and returns a list of the running average of the numbers that are in between 5 and 45 inclusive. You should be able to use a function you made previously"
   ]
  },
  {
   "cell_type": "code",
   "execution_count": 361,
   "metadata": {},
   "outputs": [
    {
     "name": "stdout",
     "output_type": "stream",
     "text": [
      "10.75\n"
     ]
    }
   ],
   "source": [
    "c = [2, 9, 12, 14, 8, 46]\n",
    "def sum_list(list_) :\n",
    "    t = 0\n",
    "    y = 0\n",
    "    for x in list_:\n",
    "        if x > 5 and x < 45 :\n",
    "            t = t + x\n",
    "            y = y + 1\n",
    "    avg = t / y\n",
    "    return avg\n",
    "print(sum_list(c))\n",
    "\n",
    "            "
   ]
  },
  {
   "cell_type": "markdown",
   "metadata": {},
   "source": [
    "### 2\n",
    "Based on excercise 12 chapter 4 in ISLR.  \n",
    "$(a)$ write a function called `power` that raises the input to 3rd power. Use the function to calculate $10^3$ "
   ]
  },
  {
   "cell_type": "code",
   "execution_count": 159,
   "metadata": {},
   "outputs": [
    {
     "name": "stdout",
     "output_type": "stream",
     "text": [
      "1000\n"
     ]
    }
   ],
   "source": [
    "c = 3\n",
    "def power(int) :\n",
    "    int = int**3 \n",
    "    print(int)\n",
    "power(10)"
   ]
  },
  {
   "cell_type": "markdown",
   "metadata": {},
   "source": [
    "$(b)$ write a function called `power2` that takes two inputs and raises the first number to the power of the second number. Use this function to calculate $10^3$, $8^{17}$ and $131^3$"
   ]
  },
  {
   "cell_type": "code",
   "execution_count": 154,
   "metadata": {},
   "outputs": [
    {
     "name": "stdout",
     "output_type": "stream",
     "text": [
      "1000\n",
      "2251799813685248\n",
      "2248091\n"
     ]
    }
   ],
   "source": [
    "def power2(*args) :\n",
    "    print(args[0]**args[1])\n",
    "power2(10, 3)\n",
    "power2(8, 17)\n",
    "power2(131, 3)\n",
    "\n",
    "  \n",
    "    \n",
    "    "
   ]
  },
  {
   "cell_type": "markdown",
   "metadata": {},
   "source": [
    "$(c)$ Create lists of values of squared and cubed vlaues of 1 through 5 using your functions. You can use loops or list comprehensions to do this. Display the curves of the first, second and third powers of the inputs"
   ]
  },
  {
   "cell_type": "code",
   "execution_count": 421,
   "metadata": {},
   "outputs": [
    {
     "name": "stdout",
     "output_type": "stream",
     "text": [
      "[[1, 1, 1], [2, 4, 8], [3, 9, 27], [4, 16, 64], [5, 25, 125]]\n",
      "[1, 1, 1, 2, 4, 8, 3, 9, 27, 4, 16, 64, 5, 25, 125]\n"
     ]
    },
    {
     "data": {
      "image/png": "[encoded data removed]",
      "text/plain": [
       "<Figure size 432x288 with 1 Axes>"
      ]
     },
     "metadata": {
      "needs_background": "light"
     },
     "output_type": "display_data"
    }
   ],
   "source": [
    "e = [1, 2, 3, 4, 5]\n",
    "def power3(list_) :\n",
    "    return [[x**1, x**2, x**3] for x in list_]\n",
    "f = power3(e)\n",
    "print(f)\n",
    "g = []\n",
    "def my_function(list_) :\n",
    "    for y in list_:\n",
    "        for z in y :\n",
    "                g.append(z)\n",
    "my_function(f)\n",
    "print(g)\n",
    "h = [g[0], g[3], g[6], g[9], g[12]]\n",
    "i = [g[1], g[4], g[7], g[10], g[13]]\n",
    "j = [g[2], g[5], g[8], g[11], g[14]]\n",
    "from matplotlib import pyplot as plt    \n",
    "ax = plt.subplot(111)\n",
    "plt.plot(h, h, label = '1st')\n",
    "plt.plot(h, i, label = '2nd')\n",
    "plt.plot(h, j, label = '3rd')\n",
    "ax.legend()\n",
    "plt.show()\n",
    "\n",
    "\n",
    "\n",
    "      \n",
    "        \n",
    "\n",
    "\n",
    "\n"
   ]
  },
  {
   "cell_type": "markdown",
   "metadata": {},
   "source": [
    "$(d)$ Add a legend to the plot that shows which color corresponds to the power"
   ]
  },
  {
   "cell_type": "code",
   "execution_count": 420,
   "metadata": {},
   "outputs": [],
   "source": [
    "### see above"
   ]
  },
  {
   "cell_type": "markdown",
   "metadata": {},
   "source": [
    "$(e)$ create a function called `plot_power` that creates a plot for a range of values that are given as an argument raised to the integer power given. A function call should look something like this `plot_power(low,high,power)` feel free to use different variable names for inputs."
   ]
  },
  {
   "cell_type": "code",
   "execution_count": 444,
   "metadata": {},
   "outputs": [
    {
     "ename": "TypeError",
     "evalue": "my_function() takes 1 positional argument but 3 were given",
     "output_type": "error",
     "traceback": [
      "\u001b[1;31m---------------------------------------------------------------------------\u001b[0m",
      "\u001b[1;31mTypeError\u001b[0m                                 Traceback (most recent call last)",
      "\u001b[1;32m<ipython-input-444-cd92ebb5bcfb>\u001b[0m in \u001b[0;36m<module>\u001b[1;34m\u001b[0m\n\u001b[0;32m      3\u001b[0m         \u001b[0mx\u001b[0m\u001b[1;33m[\u001b[0m\u001b[0mi\u001b[0m\u001b[1;33m]\u001b[0m \u001b[1;33m=\u001b[0m \u001b[0mx\u001b[0m\u001b[1;33m[\u001b[0m\u001b[0mi\u001b[0m\u001b[1;33m]\u001b[0m\u001b[1;33m**\u001b[0m\u001b[0mz\u001b[0m\u001b[1;33m\u001b[0m\u001b[1;33m\u001b[0m\u001b[0m\n\u001b[0;32m      4\u001b[0m     \u001b[1;32mreturn\u001b[0m \u001b[0mx\u001b[0m\u001b[1;33m\u001b[0m\u001b[1;33m\u001b[0m\u001b[0m\n\u001b[1;32m----> 5\u001b[1;33m \u001b[0mplt\u001b[0m\u001b[1;33m.\u001b[0m\u001b[0mplot\u001b[0m\u001b[1;33m(\u001b[0m\u001b[0mmy_function\u001b[0m\u001b[1;33m(\u001b[0m\u001b[1;36m1\u001b[0m\u001b[1;33m,\u001b[0m \u001b[1;36m10\u001b[0m\u001b[1;33m,\u001b[0m \u001b[1;36m2\u001b[0m\u001b[1;33m)\u001b[0m\u001b[1;33m)\u001b[0m\u001b[1;33m\u001b[0m\u001b[1;33m\u001b[0m\u001b[0m\n\u001b[0m\u001b[0;32m      6\u001b[0m \u001b[0max\u001b[0m\u001b[1;33m.\u001b[0m\u001b[0mlegend\u001b[0m\u001b[1;33m(\u001b[0m\u001b[1;33m)\u001b[0m\u001b[1;33m\u001b[0m\u001b[1;33m\u001b[0m\u001b[0m\n\u001b[0;32m      7\u001b[0m \u001b[0mplt\u001b[0m\u001b[1;33m.\u001b[0m\u001b[0mshow\u001b[0m\u001b[1;33m(\u001b[0m\u001b[1;33m)\u001b[0m\u001b[1;33m\u001b[0m\u001b[1;33m\u001b[0m\u001b[0m\n",
      "\u001b[1;31mTypeError\u001b[0m: my_function() takes 1 positional argument but 3 were given"
     ]
    }
   ],
   "source": [
    "def plot_power(x, y, z):\n",
    "    for i in range(x,len(y)):\n",
    "        x[i] = x[i]**z \n",
    "    return x\n",
    "plt.plot(my_function(1, 10, 2))\n",
    "ax.legend()\n",
    "plt.show()"
   ]
  },
  {
   "cell_type": "markdown",
   "metadata": {},
   "source": [
    "$(f)$ Define a function called `display_power_plots` that plots multiple powers based on a list of them passed as an argument over a range passed in similarly to the one above. Add a legend that shows which curve corresponds to which power. A function call should something look like this `display_power_plots(low,high,[p1,p2,p3])`"
   ]
  },
  {
   "cell_type": "code",
   "execution_count": null,
   "metadata": {},
   "outputs": [],
   "source": [
    "z= [range(1, 10)]\n",
    "def display_power_plots(x, y, z) :\n",
    "    for i in range(x, len(y)) :\n",
    "        x[i] = x[i]**z \n",
    "    return x\n",
    "plt.plot(my_function(1, 10, z))"
   ]
  },
  {
   "cell_type": "markdown",
   "metadata": {},
   "source": [
    "### 3\n",
    "I have read the accompanying file name python_intro (yes or no)"
   ]
  },
  {
   "cell_type": "markdown",
   "metadata": {},
   "source": [
    "Yes"
   ]
  },
  {
   "cell_type": "markdown",
   "metadata": {},
   "source": [
    "### 4\n",
    "\n",
    "Thanks to Karl Diether in the Finance Department for this section\n",
    "\n",
    "**Pandas**\n",
    "\n",
    "Pandas is a data manipulation library in python. Some of the aspects we will use in thsi course are listed below\n",
    "\n",
    "1. *Pandas core data structures*: the `DataFrame` and `Series`. Understanding that dataframes store mixed type data (strings, integers, floating point, etc) in a rectangular array. Understanding how to call methods (functions available to the datframe such as `mean`, `describe`, or `shift`), and access the dataframe's attributes (i.e. the underlying data) <br><br>\n",
    "\n",
    "2. *Getting data into DataFrames*. Getting data into a `Pandas'` dataframe is usually straight forward and easy. Pandas easily reads many different data formats: csv files, Excel files, SAS data files, Stata data files, etc. In this class, we will mainly read data in form csv files. Still, I will cover other methods. In addition, you will learn how to create `dataframes` from more primitive python datatypes: `lists`, `dictonaries`, and numpy arrays.<br><br>\n",
    "\n",
    "3. *Data creation.* How to create new columns in a dataframe based on a existing column (e.g, computing the log of a column and storing the result as a new column).<br><br>\n",
    "\n",
    "4. *Data selection*. You will learn how to select only the rows or columns of a `dataframe` that you need for your analysis. For example, how to remove missing values, or select only observations where the lagged price is greater than \\$5<br><br>\n",
    "\n",
    "5. *Merging data*. You will learn how to merge dataframes together based on a single key or multiple keys. Furthermore, we will explore the set logic if different merge types: 'left', 'right', 'inner', and 'outer' merges.<br><br>\n",
    "\n",
    "\n",
    "**II. Why Python/Pandas?**\n",
    "\n",
    "Why Python/Pandas? Why not Stata, R, or SAS? Certainly, each of those languages are used in empirical finance research. I think there are some important advantages to using `Python/Pandas`. One of the important reasons is that Python is a well designed a popular general purpose programming language. I think this makes Python/Pandas relatively easily to learn. I also think it provide `Pandas` with a more elegant syntax than the other languages (but that's obviously a subjective judgment on my part). Additionally, I think this general purpose base yields a side benefit to you. Specifically, learning a general purpose programming language has potentially large benefits for you even if you don't decide to pursue a PhD in Finance. Python is used in lots of different domains; it's not narrowly confined to the domain of quantitative finance or even scientific computing or data science.\n",
    "\n",
    "The main purpose of this `Jupyter` `notebook` is to introduce the `Pandas` `library` (the most important library for this course) and the `dataframe` (the main data object we rely on do to empirical work in the course). A secondary purpose of this notebook is to briefly show off the high level nature of `Pandas`; by high level, I mean you can get a lot done with a only a few commands.\n",
    "\n",
    "\n",
    "**III. Introducing the Dataframe**\n",
    "\n",
    "What does `Pandas'` provide that helps with data analysis? The core object Pandas' provides is a container for holding rectangular array of mixed type data called a **dataframe**. You can think of a dataframe as the programming equivalent of a spreadsheet. The `dataframe` contains rows and columns of data where each column can be a different fundamental datatype: integers, floats, imaginary numbers, or strings. Analogous to a spreadsheet, Pandas' provides programmers with many ways to create new data, transform and combine data, aggregate data, or display data. For example, Pandas' has a built in operator (it's the standard division symbol, `/`) that allows one to divide one column into the other element by element. It also has much higher level functions that, for example, allow us to easily create graphs or plots of data. Many of these functions are built into the dataframe (these built in functions are typically called `methods` or `member` `functions` in the parlance of object oriented programming). So a dataframe isn't just a container for data; it also holds many functions that allow us to perform data analysis. That's why a dataframe is considering an object; it holds mix type data and it provides functions (methods) that allow us to manipulate, transform, and analyze data. The data an object can store, and the functions that can operate on the data define the object's identity (a dataframe in this case).\n",
    "\n",
    "**II. Accessing the Pandas Library**\n",
    "\n",
    "To use Pandas we have to tell Python that we want access to it. This is accomplished with Python's `import` command. As part of the import command I will also give the `Pandas` `library` a namespace. It's convention to use `pd` as the namespace (you can use a different name than `pd` but `pd` is a really strong convention for Pandas in the Python world ... most people will think you're weird if you use any other namespace convention). Given the `pd` namespace, Pandas' functions that we call will take the following form: `pd.function` (for example, `pd.read_csv`). Using namespaces is a good programming practice (habit) because it keeps your code tidier. It's makes it clearer what library a certain function or command comes from if each library you use has it's own namespace. "
   ]
  },
  {
   "cell_type": "code",
   "execution_count": 161,
   "metadata": {},
   "outputs": [],
   "source": [
    "import pandas as pd"
   ]
  },
  {
   "cell_type": "markdown",
   "metadata": {},
   "source": [
    "**III. Reading in the data and creating a `dataframe`**\n",
    "\n",
    "Let's read in some data, and create a `dataframe` object. The data we wish to read into a `dataframe` are annual balance sheet data from Amazon. The data are in a csv file so we can read in the data using the `read_csv` function. The `read_csv` function will automatically create a `dataframe` object containing the data from the csv file. The `read_csv` function has a lot of options and flexibility (take a look at the [help page for it in Pandas' documentation](https://pandas.pydata.org/pandas-docs/stable/generated/pandas.read_csv.html)), but often you don't use any of them (particularly for well formed or non-messy csv files). Pandas can read many different datafile formats (e.g., Excel, SAS, SQL, and Stata), but in this class we will mainly work with csv files. Note, the csv file is actually stored on a web server. The `read_csv` function in `pandas`, of course, reads files stored on your local machine, but it also has no trouble reading file stored remotely; you just need to provide a URL."
   ]
  },
  {
   "cell_type": "code",
   "execution_count": 162,
   "metadata": {},
   "outputs": [],
   "source": [
    "df = pd.read_csv('http://diether.org/prephd/01-amazon.csv')"
   ]
  },
  {
   "cell_type": "markdown",
   "metadata": {},
   "source": [
    "Note (1): To read in data from non-csv formats you generally invoke a command very similar to `read_csv`. For example, you can read in a `Stata` datafile using the following:\n",
    "```python\n",
    "df = pandas.read_stata('filename.dta')\n",
    "```\n",
    "\n",
    "Note (2): There are many other ways to create dataframes. For example, you can convert core Python data structures (like `lists` or `dictionaries`) into `dataframes`. "
   ]
  },
  {
   "cell_type": "markdown",
   "metadata": {},
   "source": [
    "**a. Displaying the data in a dataframe**\n",
    "\n",
    "The **Jupyter notebook** is a special environment where if you type the name of a dataframe (or other datatypes), it will display the default view of that object (e.g., if the dataframe is small it will display all the data in the dataframe, and if it's large only a truncated view of the data will be displayed). If you just write a python program and run it, then you need to use the `print` function to see any output."
   ]
  },
  {
   "cell_type": "code",
   "execution_count": 164,
   "metadata": {},
   "outputs": [
    {
     "data": {
      "text/html": [
       "<div>\n",
       "<style scoped>\n",
       "    .dataframe tbody tr th:only-of-type {\n",
       "        vertical-align: middle;\n",
       "    }\n",
       "\n",
       "    .dataframe tbody tr th {\n",
       "        vertical-align: top;\n",
       "    }\n",
       "\n",
       "    .dataframe thead th {\n",
       "        text-align: right;\n",
       "    }\n",
       "</style>\n",
       "<table border=\"1\" class=\"dataframe\">\n",
       "  <thead>\n",
       "    <tr style=\"text-align: right;\">\n",
       "      <th></th>\n",
       "      <th>year</th>\n",
       "      <th>symbol</th>\n",
       "      <th>capx</th>\n",
       "      <th>debt_lt</th>\n",
       "      <th>ebit</th>\n",
       "      <th>revenue</th>\n",
       "      <th>interest</th>\n",
       "      <th>rd</th>\n",
       "      <th>costat</th>\n",
       "      <th>mcap</th>\n",
       "    </tr>\n",
       "  </thead>\n",
       "  <tbody>\n",
       "    <tr>\n",
       "      <td>0</td>\n",
       "      <td>1998</td>\n",
       "      <td>AMZN</td>\n",
       "      <td>28.333</td>\n",
       "      <td>348.140</td>\n",
       "      <td>-104.388</td>\n",
       "      <td>609.996</td>\n",
       "      <td>26.639</td>\n",
       "      <td>46.807</td>\n",
       "      <td>A</td>\n",
       "      <td>17054.8413</td>\n",
       "    </tr>\n",
       "    <tr>\n",
       "      <td>1</td>\n",
       "      <td>1999</td>\n",
       "      <td>AMZN</td>\n",
       "      <td>287.055</td>\n",
       "      <td>1466.338</td>\n",
       "      <td>-597.683</td>\n",
       "      <td>1639.839</td>\n",
       "      <td>87.966</td>\n",
       "      <td>159.722</td>\n",
       "      <td>A</td>\n",
       "      <td>26274.9244</td>\n",
       "    </tr>\n",
       "    <tr>\n",
       "      <td>2</td>\n",
       "      <td>2000</td>\n",
       "      <td>AMZN</td>\n",
       "      <td>134.758</td>\n",
       "      <td>2127.464</td>\n",
       "      <td>-663.569</td>\n",
       "      <td>2761.983</td>\n",
       "      <td>130.921</td>\n",
       "      <td>269.326</td>\n",
       "      <td>A</td>\n",
       "      <td>5557.9913</td>\n",
       "    </tr>\n",
       "    <tr>\n",
       "      <td>3</td>\n",
       "      <td>2001</td>\n",
       "      <td>AMZN</td>\n",
       "      <td>50.321</td>\n",
       "      <td>2156.133</td>\n",
       "      <td>-230.672</td>\n",
       "      <td>3122.433</td>\n",
       "      <td>139.232</td>\n",
       "      <td>243.888</td>\n",
       "      <td>A</td>\n",
       "      <td>4038.2188</td>\n",
       "    </tr>\n",
       "    <tr>\n",
       "      <td>4</td>\n",
       "      <td>2002</td>\n",
       "      <td>AMZN</td>\n",
       "      <td>39.163</td>\n",
       "      <td>2245.691</td>\n",
       "      <td>105.697</td>\n",
       "      <td>3932.936</td>\n",
       "      <td>142.925</td>\n",
       "      <td>251.543</td>\n",
       "      <td>A</td>\n",
       "      <td>7327.5443</td>\n",
       "    </tr>\n",
       "    <tr>\n",
       "      <td>5</td>\n",
       "      <td>2003</td>\n",
       "      <td>AMZN</td>\n",
       "      <td>45.963</td>\n",
       "      <td>1925.373</td>\n",
       "      <td>270.735</td>\n",
       "      <td>5263.699</td>\n",
       "      <td>129.979</td>\n",
       "      <td>257.364</td>\n",
       "      <td>A</td>\n",
       "      <td>21224.4875</td>\n",
       "    </tr>\n",
       "    <tr>\n",
       "      <td>6</td>\n",
       "      <td>2004</td>\n",
       "      <td>AMZN</td>\n",
       "      <td>89.133</td>\n",
       "      <td>1847.397</td>\n",
       "      <td>431.378</td>\n",
       "      <td>6921.124</td>\n",
       "      <td>107.227</td>\n",
       "      <td>282.976</td>\n",
       "      <td>A</td>\n",
       "      <td>18146.1002</td>\n",
       "    </tr>\n",
       "    <tr>\n",
       "      <td>7</td>\n",
       "      <td>2005</td>\n",
       "      <td>AMZN</td>\n",
       "      <td>204.000</td>\n",
       "      <td>1521.000</td>\n",
       "      <td>465.000</td>\n",
       "      <td>8490.000</td>\n",
       "      <td>92.000</td>\n",
       "      <td>451.000</td>\n",
       "      <td>A</td>\n",
       "      <td>19614.4000</td>\n",
       "    </tr>\n",
       "    <tr>\n",
       "      <td>8</td>\n",
       "      <td>2006</td>\n",
       "      <td>AMZN</td>\n",
       "      <td>216.000</td>\n",
       "      <td>1267.000</td>\n",
       "      <td>409.000</td>\n",
       "      <td>10711.000</td>\n",
       "      <td>78.000</td>\n",
       "      <td>662.000</td>\n",
       "      <td>A</td>\n",
       "      <td>16336.4400</td>\n",
       "    </tr>\n",
       "    <tr>\n",
       "      <td>9</td>\n",
       "      <td>2007</td>\n",
       "      <td>AMZN</td>\n",
       "      <td>224.000</td>\n",
       "      <td>1344.000</td>\n",
       "      <td>655.000</td>\n",
       "      <td>14835.000</td>\n",
       "      <td>77.000</td>\n",
       "      <td>818.000</td>\n",
       "      <td>A</td>\n",
       "      <td>38538.2400</td>\n",
       "    </tr>\n",
       "    <tr>\n",
       "      <td>10</td>\n",
       "      <td>2008</td>\n",
       "      <td>AMZN</td>\n",
       "      <td>333.000</td>\n",
       "      <td>533.000</td>\n",
       "      <td>789.000</td>\n",
       "      <td>19166.000</td>\n",
       "      <td>71.000</td>\n",
       "      <td>1033.000</td>\n",
       "      <td>A</td>\n",
       "      <td>21947.8400</td>\n",
       "    </tr>\n",
       "    <tr>\n",
       "      <td>11</td>\n",
       "      <td>2009</td>\n",
       "      <td>AMZN</td>\n",
       "      <td>373.000</td>\n",
       "      <td>252.000</td>\n",
       "      <td>1183.000</td>\n",
       "      <td>24509.000</td>\n",
       "      <td>34.000</td>\n",
       "      <td>1240.000</td>\n",
       "      <td>A</td>\n",
       "      <td>59726.8800</td>\n",
       "    </tr>\n",
       "    <tr>\n",
       "      <td>12</td>\n",
       "      <td>2010</td>\n",
       "      <td>AMZN</td>\n",
       "      <td>979.000</td>\n",
       "      <td>641.000</td>\n",
       "      <td>1407.000</td>\n",
       "      <td>34204.000</td>\n",
       "      <td>39.000</td>\n",
       "      <td>1734.000</td>\n",
       "      <td>A</td>\n",
       "      <td>81180.0000</td>\n",
       "    </tr>\n",
       "    <tr>\n",
       "      <td>13</td>\n",
       "      <td>2011</td>\n",
       "      <td>AMZN</td>\n",
       "      <td>1811.000</td>\n",
       "      <td>1415.000</td>\n",
       "      <td>867.000</td>\n",
       "      <td>48077.000</td>\n",
       "      <td>65.000</td>\n",
       "      <td>2909.000</td>\n",
       "      <td>A</td>\n",
       "      <td>78760.5000</td>\n",
       "    </tr>\n",
       "    <tr>\n",
       "      <td>14</td>\n",
       "      <td>2012</td>\n",
       "      <td>AMZN</td>\n",
       "      <td>3785.000</td>\n",
       "      <td>3830.000</td>\n",
       "      <td>672.000</td>\n",
       "      <td>61093.000</td>\n",
       "      <td>92.000</td>\n",
       "      <td>4564.000</td>\n",
       "      <td>A</td>\n",
       "      <td>113894.9800</td>\n",
       "    </tr>\n",
       "    <tr>\n",
       "      <td>15</td>\n",
       "      <td>2013</td>\n",
       "      <td>AMZN</td>\n",
       "      <td>3444.000</td>\n",
       "      <td>5181.000</td>\n",
       "      <td>691.000</td>\n",
       "      <td>74452.000</td>\n",
       "      <td>141.000</td>\n",
       "      <td>6565.000</td>\n",
       "      <td>A</td>\n",
       "      <td>183044.6100</td>\n",
       "    </tr>\n",
       "    <tr>\n",
       "      <td>16</td>\n",
       "      <td>2014</td>\n",
       "      <td>AMZN</td>\n",
       "      <td>4893.000</td>\n",
       "      <td>12489.000</td>\n",
       "      <td>130.000</td>\n",
       "      <td>88988.000</td>\n",
       "      <td>210.000</td>\n",
       "      <td>9275.000</td>\n",
       "      <td>A</td>\n",
       "      <td>144312.7500</td>\n",
       "    </tr>\n",
       "    <tr>\n",
       "      <td>17</td>\n",
       "      <td>2015</td>\n",
       "      <td>AMZN</td>\n",
       "      <td>4589.000</td>\n",
       "      <td>14183.000</td>\n",
       "      <td>2176.000</td>\n",
       "      <td>107006.000</td>\n",
       "      <td>459.000</td>\n",
       "      <td>12540.000</td>\n",
       "      <td>A</td>\n",
       "      <td>318344.1900</td>\n",
       "    </tr>\n",
       "    <tr>\n",
       "      <td>18</td>\n",
       "      <td>2016</td>\n",
       "      <td>AMZN</td>\n",
       "      <td>6737.000</td>\n",
       "      <td>15213.000</td>\n",
       "      <td>4066.000</td>\n",
       "      <td>135987.000</td>\n",
       "      <td>484.000</td>\n",
       "      <td>16085.000</td>\n",
       "      <td>A</td>\n",
       "      <td>357687.9900</td>\n",
       "    </tr>\n",
       "    <tr>\n",
       "      <td>19</td>\n",
       "      <td>2017</td>\n",
       "      <td>AMZN</td>\n",
       "      <td>11955.000</td>\n",
       "      <td>37926.000</td>\n",
       "      <td>3954.000</td>\n",
       "      <td>177866.000</td>\n",
       "      <td>848.000</td>\n",
       "      <td>22620.000</td>\n",
       "      <td>A</td>\n",
       "      <td>566023.4800</td>\n",
       "    </tr>\n",
       "    <tr>\n",
       "      <td>20</td>\n",
       "      <td>2018</td>\n",
       "      <td>AMZN</td>\n",
       "      <td>13427.000</td>\n",
       "      <td>39787.000</td>\n",
       "      <td>12242.000</td>\n",
       "      <td>232887.000</td>\n",
       "      <td>1417.000</td>\n",
       "      <td>28837.000</td>\n",
       "      <td>A</td>\n",
       "      <td>737467.2700</td>\n",
       "    </tr>\n",
       "  </tbody>\n",
       "</table>\n",
       "</div>"
      ],
      "text/plain": [
       "    year symbol       capx    debt_lt       ebit     revenue  interest  \\\n",
       "0   1998   AMZN     28.333    348.140   -104.388     609.996    26.639   \n",
       "1   1999   AMZN    287.055   1466.338   -597.683    1639.839    87.966   \n",
       "2   2000   AMZN    134.758   2127.464   -663.569    2761.983   130.921   \n",
       "3   2001   AMZN     50.321   2156.133   -230.672    3122.433   139.232   \n",
       "4   2002   AMZN     39.163   2245.691    105.697    3932.936   142.925   \n",
       "5   2003   AMZN     45.963   1925.373    270.735    5263.699   129.979   \n",
       "6   2004   AMZN     89.133   1847.397    431.378    6921.124   107.227   \n",
       "7   2005   AMZN    204.000   1521.000    465.000    8490.000    92.000   \n",
       "8   2006   AMZN    216.000   1267.000    409.000   10711.000    78.000   \n",
       "9   2007   AMZN    224.000   1344.000    655.000   14835.000    77.000   \n",
       "10  2008   AMZN    333.000    533.000    789.000   19166.000    71.000   \n",
       "11  2009   AMZN    373.000    252.000   1183.000   24509.000    34.000   \n",
       "12  2010   AMZN    979.000    641.000   1407.000   34204.000    39.000   \n",
       "13  2011   AMZN   1811.000   1415.000    867.000   48077.000    65.000   \n",
       "14  2012   AMZN   3785.000   3830.000    672.000   61093.000    92.000   \n",
       "15  2013   AMZN   3444.000   5181.000    691.000   74452.000   141.000   \n",
       "16  2014   AMZN   4893.000  12489.000    130.000   88988.000   210.000   \n",
       "17  2015   AMZN   4589.000  14183.000   2176.000  107006.000   459.000   \n",
       "18  2016   AMZN   6737.000  15213.000   4066.000  135987.000   484.000   \n",
       "19  2017   AMZN  11955.000  37926.000   3954.000  177866.000   848.000   \n",
       "20  2018   AMZN  13427.000  39787.000  12242.000  232887.000  1417.000   \n",
       "\n",
       "           rd costat         mcap  \n",
       "0      46.807      A   17054.8413  \n",
       "1     159.722      A   26274.9244  \n",
       "2     269.326      A    5557.9913  \n",
       "3     243.888      A    4038.2188  \n",
       "4     251.543      A    7327.5443  \n",
       "5     257.364      A   21224.4875  \n",
       "6     282.976      A   18146.1002  \n",
       "7     451.000      A   19614.4000  \n",
       "8     662.000      A   16336.4400  \n",
       "9     818.000      A   38538.2400  \n",
       "10   1033.000      A   21947.8400  \n",
       "11   1240.000      A   59726.8800  \n",
       "12   1734.000      A   81180.0000  \n",
       "13   2909.000      A   78760.5000  \n",
       "14   4564.000      A  113894.9800  \n",
       "15   6565.000      A  183044.6100  \n",
       "16   9275.000      A  144312.7500  \n",
       "17  12540.000      A  318344.1900  \n",
       "18  16085.000      A  357687.9900  \n",
       "19  22620.000      A  566023.4800  \n",
       "20  28837.000      A  737467.2700  "
      ]
     },
     "execution_count": 164,
     "metadata": {},
     "output_type": "execute_result"
    }
   ],
   "source": [
    "df"
   ]
  },
  {
   "cell_type": "markdown",
   "metadata": {},
   "source": [
    "Or we can use an explicit print command:"
   ]
  },
  {
   "cell_type": "code",
   "execution_count": 166,
   "metadata": {},
   "outputs": [
    {
     "name": "stdout",
     "output_type": "stream",
     "text": [
      "    year symbol       capx    debt_lt       ebit     revenue  interest  \\\n",
      "0   1998   AMZN     28.333    348.140   -104.388     609.996    26.639   \n",
      "1   1999   AMZN    287.055   1466.338   -597.683    1639.839    87.966   \n",
      "2   2000   AMZN    134.758   2127.464   -663.569    2761.983   130.921   \n",
      "3   2001   AMZN     50.321   2156.133   -230.672    3122.433   139.232   \n",
      "4   2002   AMZN     39.163   2245.691    105.697    3932.936   142.925   \n",
      "5   2003   AMZN     45.963   1925.373    270.735    5263.699   129.979   \n",
      "6   2004   AMZN     89.133   1847.397    431.378    6921.124   107.227   \n",
      "7   2005   AMZN    204.000   1521.000    465.000    8490.000    92.000   \n",
      "8   2006   AMZN    216.000   1267.000    409.000   10711.000    78.000   \n",
      "9   2007   AMZN    224.000   1344.000    655.000   14835.000    77.000   \n",
      "10  2008   AMZN    333.000    533.000    789.000   19166.000    71.000   \n",
      "11  2009   AMZN    373.000    252.000   1183.000   24509.000    34.000   \n",
      "12  2010   AMZN    979.000    641.000   1407.000   34204.000    39.000   \n",
      "13  2011   AMZN   1811.000   1415.000    867.000   48077.000    65.000   \n",
      "14  2012   AMZN   3785.000   3830.000    672.000   61093.000    92.000   \n",
      "15  2013   AMZN   3444.000   5181.000    691.000   74452.000   141.000   \n",
      "16  2014   AMZN   4893.000  12489.000    130.000   88988.000   210.000   \n",
      "17  2015   AMZN   4589.000  14183.000   2176.000  107006.000   459.000   \n",
      "18  2016   AMZN   6737.000  15213.000   4066.000  135987.000   484.000   \n",
      "19  2017   AMZN  11955.000  37926.000   3954.000  177866.000   848.000   \n",
      "20  2018   AMZN  13427.000  39787.000  12242.000  232887.000  1417.000   \n",
      "\n",
      "           rd costat         mcap  \n",
      "0      46.807      A   17054.8413  \n",
      "1     159.722      A   26274.9244  \n",
      "2     269.326      A    5557.9913  \n",
      "3     243.888      A    4038.2188  \n",
      "4     251.543      A    7327.5443  \n",
      "5     257.364      A   21224.4875  \n",
      "6     282.976      A   18146.1002  \n",
      "7     451.000      A   19614.4000  \n",
      "8     662.000      A   16336.4400  \n",
      "9     818.000      A   38538.2400  \n",
      "10   1033.000      A   21947.8400  \n",
      "11   1240.000      A   59726.8800  \n",
      "12   1734.000      A   81180.0000  \n",
      "13   2909.000      A   78760.5000  \n",
      "14   4564.000      A  113894.9800  \n",
      "15   6565.000      A  183044.6100  \n",
      "16   9275.000      A  144312.7500  \n",
      "17  12540.000      A  318344.1900  \n",
      "18  16085.000      A  357687.9900  \n",
      "19  22620.000      A  566023.4800  \n",
      "20  28837.000      A  737467.2700  \n"
     ]
    }
   ],
   "source": [
    "print(df)"
   ]
  },
  {
   "cell_type": "markdown",
   "metadata": {},
   "source": [
    "**b. Dataframes and Series**\n",
    "\n",
    "Our `dataframe` is called `df`, but if we select a column from the `dataframe` it will be of type `Series`. `Dataframes` and `Series` behave very similarly; for our purposes, it will mostly just be a technical distinction between a one dimensional and two dimensional array.\n",
    "\n",
    "Note (1): we can select a column of a dataframe (a Series) by wrapping the column's name in quotes. For example,\n",
    "```python\n",
    "df['sales']\n",
    "```\n",
    "\n",
    "Note (2): you typically must wrap the column's name in ' ' because most column names are stored as strings. You will need to reference columns this way as long as the variable names you use aren't entirely numeric (e.g., an integer). In Python (and nearly every other general purpose programming language) strings are always delimited by either single or double quotes. In `Python` you can use either single (' ') or double (\" \") quotes.  \n",
    "\n",
    "Note (3):  In Python, there is a `type` function that returns the type of a variable or object. "
   ]
  },
  {
   "cell_type": "code",
   "execution_count": 168,
   "metadata": {},
   "outputs": [
    {
     "data": {
      "text/plain": [
       "0      -104.388\n",
       "1      -597.683\n",
       "2      -663.569\n",
       "3      -230.672\n",
       "4       105.697\n",
       "5       270.735\n",
       "6       431.378\n",
       "7       465.000\n",
       "8       409.000\n",
       "9       655.000\n",
       "10      789.000\n",
       "11     1183.000\n",
       "12     1407.000\n",
       "13      867.000\n",
       "14      672.000\n",
       "15      691.000\n",
       "16      130.000\n",
       "17     2176.000\n",
       "18     4066.000\n",
       "19     3954.000\n",
       "20    12242.000\n",
       "Name: ebit, dtype: float64"
      ]
     },
     "execution_count": 168,
     "metadata": {},
     "output_type": "execute_result"
    }
   ],
   "source": [
    "df['ebit']"
   ]
  },
  {
   "cell_type": "code",
   "execution_count": 169,
   "metadata": {},
   "outputs": [
    {
     "data": {
      "text/plain": [
       "str"
      ]
     },
     "execution_count": 169,
     "metadata": {},
     "output_type": "execute_result"
    }
   ],
   "source": [
    "type('ebit')"
   ]
  },
  {
   "cell_type": "code",
   "execution_count": null,
   "metadata": {},
   "outputs": [],
   "source": []
  },
  {
   "cell_type": "markdown",
   "metadata": {},
   "source": [
    "**IV. Creating a New Column of Data**\n",
    "\n",
    "We can create a new column in a dataframe using the assignment operator. Like most programming languages, the assignment operator is just the equal sign: `=`. For example, we might be interested in how Amazon's capital structure changes over time. Therefore, let's create a debt to assets ratio (leverage).\n",
    "\n",
    "Note (1): mathematical operations such as addition (+), subtraction (-), multiplication (*), or division (/) are all element by element operations between the dataframe columns that are referenced."
   ]
  },
  {
   "cell_type": "code",
   "execution_count": 175,
   "metadata": {},
   "outputs": [],
   "source": [
    "leverage = df['debt_lt'] / df['capx']\n",
    "df['leverage'] = leverage"
   ]
  },
  {
   "cell_type": "markdown",
   "metadata": {},
   "source": [
    "Note (2): mathematical operations between scalars and columns operate analogously. For example,\n",
    "```python\n",
    "df['leverage']*100\n",
    "```\n",
    "would multiply every element in the leverage column by 100."
   ]
  },
  {
   "cell_type": "markdown",
   "metadata": {},
   "source": [
    "**Deleting a Variable/Column of Data**"
   ]
  },
  {
   "cell_type": "code",
   "execution_count": 181,
   "metadata": {},
   "outputs": [
    {
     "data": {
      "text/html": [
       "<div>\n",
       "<style scoped>\n",
       "    .dataframe tbody tr th:only-of-type {\n",
       "        vertical-align: middle;\n",
       "    }\n",
       "\n",
       "    .dataframe tbody tr th {\n",
       "        vertical-align: top;\n",
       "    }\n",
       "\n",
       "    .dataframe thead th {\n",
       "        text-align: right;\n",
       "    }\n",
       "</style>\n",
       "<table border=\"1\" class=\"dataframe\">\n",
       "  <thead>\n",
       "    <tr style=\"text-align: right;\">\n",
       "      <th></th>\n",
       "      <th>year</th>\n",
       "      <th>symbol</th>\n",
       "      <th>capx</th>\n",
       "      <th>debt_lt</th>\n",
       "      <th>ebit</th>\n",
       "      <th>revenue</th>\n",
       "      <th>interest</th>\n",
       "      <th>rd</th>\n",
       "      <th>mcap</th>\n",
       "      <th>leverage</th>\n",
       "    </tr>\n",
       "  </thead>\n",
       "  <tbody>\n",
       "    <tr>\n",
       "      <td>0</td>\n",
       "      <td>1998</td>\n",
       "      <td>AMZN</td>\n",
       "      <td>28.333</td>\n",
       "      <td>348.140</td>\n",
       "      <td>-104.388</td>\n",
       "      <td>609.996</td>\n",
       "      <td>26.639</td>\n",
       "      <td>46.807</td>\n",
       "      <td>17054.8413</td>\n",
       "      <td>12.287439</td>\n",
       "    </tr>\n",
       "    <tr>\n",
       "      <td>1</td>\n",
       "      <td>1999</td>\n",
       "      <td>AMZN</td>\n",
       "      <td>287.055</td>\n",
       "      <td>1466.338</td>\n",
       "      <td>-597.683</td>\n",
       "      <td>1639.839</td>\n",
       "      <td>87.966</td>\n",
       "      <td>159.722</td>\n",
       "      <td>26274.9244</td>\n",
       "      <td>5.108213</td>\n",
       "    </tr>\n",
       "    <tr>\n",
       "      <td>2</td>\n",
       "      <td>2000</td>\n",
       "      <td>AMZN</td>\n",
       "      <td>134.758</td>\n",
       "      <td>2127.464</td>\n",
       "      <td>-663.569</td>\n",
       "      <td>2761.983</td>\n",
       "      <td>130.921</td>\n",
       "      <td>269.326</td>\n",
       "      <td>5557.9913</td>\n",
       "      <td>15.787293</td>\n",
       "    </tr>\n",
       "    <tr>\n",
       "      <td>3</td>\n",
       "      <td>2001</td>\n",
       "      <td>AMZN</td>\n",
       "      <td>50.321</td>\n",
       "      <td>2156.133</td>\n",
       "      <td>-230.672</td>\n",
       "      <td>3122.433</td>\n",
       "      <td>139.232</td>\n",
       "      <td>243.888</td>\n",
       "      <td>4038.2188</td>\n",
       "      <td>42.847579</td>\n",
       "    </tr>\n",
       "    <tr>\n",
       "      <td>4</td>\n",
       "      <td>2002</td>\n",
       "      <td>AMZN</td>\n",
       "      <td>39.163</td>\n",
       "      <td>2245.691</td>\n",
       "      <td>105.697</td>\n",
       "      <td>3932.936</td>\n",
       "      <td>142.925</td>\n",
       "      <td>251.543</td>\n",
       "      <td>7327.5443</td>\n",
       "      <td>57.342160</td>\n",
       "    </tr>\n",
       "    <tr>\n",
       "      <td>5</td>\n",
       "      <td>2003</td>\n",
       "      <td>AMZN</td>\n",
       "      <td>45.963</td>\n",
       "      <td>1925.373</td>\n",
       "      <td>270.735</td>\n",
       "      <td>5263.699</td>\n",
       "      <td>129.979</td>\n",
       "      <td>257.364</td>\n",
       "      <td>21224.4875</td>\n",
       "      <td>41.889629</td>\n",
       "    </tr>\n",
       "    <tr>\n",
       "      <td>6</td>\n",
       "      <td>2004</td>\n",
       "      <td>AMZN</td>\n",
       "      <td>89.133</td>\n",
       "      <td>1847.397</td>\n",
       "      <td>431.378</td>\n",
       "      <td>6921.124</td>\n",
       "      <td>107.227</td>\n",
       "      <td>282.976</td>\n",
       "      <td>18146.1002</td>\n",
       "      <td>20.726297</td>\n",
       "    </tr>\n",
       "    <tr>\n",
       "      <td>7</td>\n",
       "      <td>2005</td>\n",
       "      <td>AMZN</td>\n",
       "      <td>204.000</td>\n",
       "      <td>1521.000</td>\n",
       "      <td>465.000</td>\n",
       "      <td>8490.000</td>\n",
       "      <td>92.000</td>\n",
       "      <td>451.000</td>\n",
       "      <td>19614.4000</td>\n",
       "      <td>7.455882</td>\n",
       "    </tr>\n",
       "    <tr>\n",
       "      <td>8</td>\n",
       "      <td>2006</td>\n",
       "      <td>AMZN</td>\n",
       "      <td>216.000</td>\n",
       "      <td>1267.000</td>\n",
       "      <td>409.000</td>\n",
       "      <td>10711.000</td>\n",
       "      <td>78.000</td>\n",
       "      <td>662.000</td>\n",
       "      <td>16336.4400</td>\n",
       "      <td>5.865741</td>\n",
       "    </tr>\n",
       "    <tr>\n",
       "      <td>9</td>\n",
       "      <td>2007</td>\n",
       "      <td>AMZN</td>\n",
       "      <td>224.000</td>\n",
       "      <td>1344.000</td>\n",
       "      <td>655.000</td>\n",
       "      <td>14835.000</td>\n",
       "      <td>77.000</td>\n",
       "      <td>818.000</td>\n",
       "      <td>38538.2400</td>\n",
       "      <td>6.000000</td>\n",
       "    </tr>\n",
       "    <tr>\n",
       "      <td>10</td>\n",
       "      <td>2008</td>\n",
       "      <td>AMZN</td>\n",
       "      <td>333.000</td>\n",
       "      <td>533.000</td>\n",
       "      <td>789.000</td>\n",
       "      <td>19166.000</td>\n",
       "      <td>71.000</td>\n",
       "      <td>1033.000</td>\n",
       "      <td>21947.8400</td>\n",
       "      <td>1.600601</td>\n",
       "    </tr>\n",
       "    <tr>\n",
       "      <td>11</td>\n",
       "      <td>2009</td>\n",
       "      <td>AMZN</td>\n",
       "      <td>373.000</td>\n",
       "      <td>252.000</td>\n",
       "      <td>1183.000</td>\n",
       "      <td>24509.000</td>\n",
       "      <td>34.000</td>\n",
       "      <td>1240.000</td>\n",
       "      <td>59726.8800</td>\n",
       "      <td>0.675603</td>\n",
       "    </tr>\n",
       "    <tr>\n",
       "      <td>12</td>\n",
       "      <td>2010</td>\n",
       "      <td>AMZN</td>\n",
       "      <td>979.000</td>\n",
       "      <td>641.000</td>\n",
       "      <td>1407.000</td>\n",
       "      <td>34204.000</td>\n",
       "      <td>39.000</td>\n",
       "      <td>1734.000</td>\n",
       "      <td>81180.0000</td>\n",
       "      <td>0.654750</td>\n",
       "    </tr>\n",
       "    <tr>\n",
       "      <td>13</td>\n",
       "      <td>2011</td>\n",
       "      <td>AMZN</td>\n",
       "      <td>1811.000</td>\n",
       "      <td>1415.000</td>\n",
       "      <td>867.000</td>\n",
       "      <td>48077.000</td>\n",
       "      <td>65.000</td>\n",
       "      <td>2909.000</td>\n",
       "      <td>78760.5000</td>\n",
       "      <td>0.781336</td>\n",
       "    </tr>\n",
       "    <tr>\n",
       "      <td>14</td>\n",
       "      <td>2012</td>\n",
       "      <td>AMZN</td>\n",
       "      <td>3785.000</td>\n",
       "      <td>3830.000</td>\n",
       "      <td>672.000</td>\n",
       "      <td>61093.000</td>\n",
       "      <td>92.000</td>\n",
       "      <td>4564.000</td>\n",
       "      <td>113894.9800</td>\n",
       "      <td>1.011889</td>\n",
       "    </tr>\n",
       "    <tr>\n",
       "      <td>15</td>\n",
       "      <td>2013</td>\n",
       "      <td>AMZN</td>\n",
       "      <td>3444.000</td>\n",
       "      <td>5181.000</td>\n",
       "      <td>691.000</td>\n",
       "      <td>74452.000</td>\n",
       "      <td>141.000</td>\n",
       "      <td>6565.000</td>\n",
       "      <td>183044.6100</td>\n",
       "      <td>1.504355</td>\n",
       "    </tr>\n",
       "    <tr>\n",
       "      <td>16</td>\n",
       "      <td>2014</td>\n",
       "      <td>AMZN</td>\n",
       "      <td>4893.000</td>\n",
       "      <td>12489.000</td>\n",
       "      <td>130.000</td>\n",
       "      <td>88988.000</td>\n",
       "      <td>210.000</td>\n",
       "      <td>9275.000</td>\n",
       "      <td>144312.7500</td>\n",
       "      <td>2.552422</td>\n",
       "    </tr>\n",
       "    <tr>\n",
       "      <td>17</td>\n",
       "      <td>2015</td>\n",
       "      <td>AMZN</td>\n",
       "      <td>4589.000</td>\n",
       "      <td>14183.000</td>\n",
       "      <td>2176.000</td>\n",
       "      <td>107006.000</td>\n",
       "      <td>459.000</td>\n",
       "      <td>12540.000</td>\n",
       "      <td>318344.1900</td>\n",
       "      <td>3.090652</td>\n",
       "    </tr>\n",
       "    <tr>\n",
       "      <td>18</td>\n",
       "      <td>2016</td>\n",
       "      <td>AMZN</td>\n",
       "      <td>6737.000</td>\n",
       "      <td>15213.000</td>\n",
       "      <td>4066.000</td>\n",
       "      <td>135987.000</td>\n",
       "      <td>484.000</td>\n",
       "      <td>16085.000</td>\n",
       "      <td>357687.9900</td>\n",
       "      <td>2.258127</td>\n",
       "    </tr>\n",
       "    <tr>\n",
       "      <td>19</td>\n",
       "      <td>2017</td>\n",
       "      <td>AMZN</td>\n",
       "      <td>11955.000</td>\n",
       "      <td>37926.000</td>\n",
       "      <td>3954.000</td>\n",
       "      <td>177866.000</td>\n",
       "      <td>848.000</td>\n",
       "      <td>22620.000</td>\n",
       "      <td>566023.4800</td>\n",
       "      <td>3.172396</td>\n",
       "    </tr>\n",
       "    <tr>\n",
       "      <td>20</td>\n",
       "      <td>2018</td>\n",
       "      <td>AMZN</td>\n",
       "      <td>13427.000</td>\n",
       "      <td>39787.000</td>\n",
       "      <td>12242.000</td>\n",
       "      <td>232887.000</td>\n",
       "      <td>1417.000</td>\n",
       "      <td>28837.000</td>\n",
       "      <td>737467.2700</td>\n",
       "      <td>2.963208</td>\n",
       "    </tr>\n",
       "  </tbody>\n",
       "</table>\n",
       "</div>"
      ],
      "text/plain": [
       "    year symbol       capx    debt_lt       ebit     revenue  interest  \\\n",
       "0   1998   AMZN     28.333    348.140   -104.388     609.996    26.639   \n",
       "1   1999   AMZN    287.055   1466.338   -597.683    1639.839    87.966   \n",
       "2   2000   AMZN    134.758   2127.464   -663.569    2761.983   130.921   \n",
       "3   2001   AMZN     50.321   2156.133   -230.672    3122.433   139.232   \n",
       "4   2002   AMZN     39.163   2245.691    105.697    3932.936   142.925   \n",
       "5   2003   AMZN     45.963   1925.373    270.735    5263.699   129.979   \n",
       "6   2004   AMZN     89.133   1847.397    431.378    6921.124   107.227   \n",
       "7   2005   AMZN    204.000   1521.000    465.000    8490.000    92.000   \n",
       "8   2006   AMZN    216.000   1267.000    409.000   10711.000    78.000   \n",
       "9   2007   AMZN    224.000   1344.000    655.000   14835.000    77.000   \n",
       "10  2008   AMZN    333.000    533.000    789.000   19166.000    71.000   \n",
       "11  2009   AMZN    373.000    252.000   1183.000   24509.000    34.000   \n",
       "12  2010   AMZN    979.000    641.000   1407.000   34204.000    39.000   \n",
       "13  2011   AMZN   1811.000   1415.000    867.000   48077.000    65.000   \n",
       "14  2012   AMZN   3785.000   3830.000    672.000   61093.000    92.000   \n",
       "15  2013   AMZN   3444.000   5181.000    691.000   74452.000   141.000   \n",
       "16  2014   AMZN   4893.000  12489.000    130.000   88988.000   210.000   \n",
       "17  2015   AMZN   4589.000  14183.000   2176.000  107006.000   459.000   \n",
       "18  2016   AMZN   6737.000  15213.000   4066.000  135987.000   484.000   \n",
       "19  2017   AMZN  11955.000  37926.000   3954.000  177866.000   848.000   \n",
       "20  2018   AMZN  13427.000  39787.000  12242.000  232887.000  1417.000   \n",
       "\n",
       "           rd         mcap   leverage  \n",
       "0      46.807   17054.8413  12.287439  \n",
       "1     159.722   26274.9244   5.108213  \n",
       "2     269.326    5557.9913  15.787293  \n",
       "3     243.888    4038.2188  42.847579  \n",
       "4     251.543    7327.5443  57.342160  \n",
       "5     257.364   21224.4875  41.889629  \n",
       "6     282.976   18146.1002  20.726297  \n",
       "7     451.000   19614.4000   7.455882  \n",
       "8     662.000   16336.4400   5.865741  \n",
       "9     818.000   38538.2400   6.000000  \n",
       "10   1033.000   21947.8400   1.600601  \n",
       "11   1240.000   59726.8800   0.675603  \n",
       "12   1734.000   81180.0000   0.654750  \n",
       "13   2909.000   78760.5000   0.781336  \n",
       "14   4564.000  113894.9800   1.011889  \n",
       "15   6565.000  183044.6100   1.504355  \n",
       "16   9275.000  144312.7500   2.552422  \n",
       "17  12540.000  318344.1900   3.090652  \n",
       "18  16085.000  357687.9900   2.258127  \n",
       "19  22620.000  566023.4800   3.172396  \n",
       "20  28837.000  737467.2700   2.963208  "
      ]
     },
     "execution_count": 181,
     "metadata": {},
     "output_type": "execute_result"
    }
   ],
   "source": [
    "df.drop(['costat'], axis=1)"
   ]
  },
  {
   "cell_type": "markdown",
   "metadata": {},
   "source": [
    "Not the above command (`drop`), created a new `dataframe` with the `costat` column removed. Most `pandas` commands with operate this way. To modify the original `dataframe` df we have to assign the `dataframe` created by the drop command to `df`:"
   ]
  },
  {
   "cell_type": "code",
   "execution_count": 183,
   "metadata": {},
   "outputs": [],
   "source": [
    "df = df.drop(['costat'], axis=1) "
   ]
  },
  {
   "cell_type": "markdown",
   "metadata": {},
   "source": [
    "**V. Power of Pandas**\n",
    "\n",
    "To show off how the high level nature of `Pandas` (how much you can accomplish with a few commands), let's create some plots.\n",
    "\n",
    "a) First, a simple plot of sales/revenue as a function of year"
   ]
  },
  {
   "cell_type": "code",
   "execution_count": 184,
   "metadata": {},
   "outputs": [
    {
     "data": {
      "text/plain": [
       "<matplotlib.axes._subplots.AxesSubplot at 0x1a3d7b75b88>"
      ]
     },
     "execution_count": 184,
     "metadata": {},
     "output_type": "execute_result"
    },
    {
     "data": {
      "image/png": "[encoded data removed]",
      "text/plain": [
       "<Figure size 432x288 with 1 Axes>"
      ]
     },
     "metadata": {
      "needs_background": "light"
     },
     "output_type": "display_data"
    }
   ],
   "source": [
    "%matplotlib inline\n",
    "df.plot(y='revenue',x='year')"
   ]
  },
  {
   "cell_type": "markdown",
   "metadata": {},
   "source": [
    "Note, how the plotting function is called; we call it using the `.` operator:\n",
    "```\n",
    "df.plot(y='revenue',x='year')\n",
    "```\n",
    "The `.plot()` function is part of any dataframe; plotting is one of the dataframe object's attributes or to talk like a programmer, it's one of the object's methods.\n",
    "\n",
    "Back to plotting\n",
    "\n",
    "b) Let's still do revenue as a function of year but as a bar barplot."
   ]
  },
  {
   "cell_type": "code",
   "execution_count": 185,
   "metadata": {},
   "outputs": [
    {
     "data": {
      "text/plain": [
       "<matplotlib.axes._subplots.AxesSubplot at 0x1a3d7fac488>"
      ]
     },
     "execution_count": 185,
     "metadata": {},
     "output_type": "execute_result"
    },
    {
     "data": {
      "image/png": "[encoded data removed]",
      "text/plain": [
       "<Figure size 432x288 with 1 Axes>"
      ]
     },
     "metadata": {
      "needs_background": "light"
     },
     "output_type": "display_data"
    }
   ],
   "source": [
    "%matplotlib inline\n",
    "df.plot.bar(y='revenue',x='year')"
   ]
  },
  {
   "cell_type": "code",
   "execution_count": null,
   "metadata": {},
   "outputs": [],
   "source": []
  },
  {
   "cell_type": "markdown",
   "metadata": {},
   "source": [
    "c) Next, a plot of EBIT as a function of year as a barplot with a title"
   ]
  },
  {
   "cell_type": "code",
   "execution_count": 186,
   "metadata": {},
   "outputs": [
    {
     "data": {
      "text/plain": [
       "<matplotlib.axes._subplots.AxesSubplot at 0x1a3d80bde08>"
      ]
     },
     "execution_count": 186,
     "metadata": {},
     "output_type": "execute_result"
    },
    {
     "data": {
      "image/png": "[encoded data removed]",
      "text/plain": [
       "<Figure size 432x288 with 1 Axes>"
      ]
     },
     "metadata": {
      "needs_background": "light"
     },
     "output_type": "display_data"
    }
   ],
   "source": [
    "df.plot.bar(y='ebit',x='year',title=\"Amazon's Earnings\",color='darkblue')"
   ]
  },
  {
   "cell_type": "markdown",
   "metadata": {},
   "source": [
    "d) Finally, let's look at Amazon's leverage over time"
   ]
  },
  {
   "cell_type": "code",
   "execution_count": null,
   "metadata": {},
   "outputs": [],
   "source": [
    "df.plot.bar(y='leverage',x='year',title=\"Pecking Order or Static Trade-Off?\",color='darkred')"
   ]
  },
  {
   "cell_type": "code",
   "execution_count": null,
   "metadata": {},
   "outputs": [],
   "source": [
    "df.plot.bar(y='mcap',x='year',color='darkred')"
   ]
  },
  {
   "cell_type": "code",
   "execution_count": null,
   "metadata": {},
   "outputs": [],
   "source": []
  }
 ],
 "metadata": {
  "kernelspec": {
   "display_name": "Python 3",
   "language": "python",
   "name": "python3"
  },
  "language_info": {
   "codemirror_mode": {
    "name": "ipython",
    "version": 3
   },
   "file_extension": ".py",
   "mimetype": "text/x-python",
   "name": "python",
   "nbconvert_exporter": "python",
   "pygments_lexer": "ipython3",
   "version": "3.7.4"
  }
 },
 "nbformat": 4,
 "nbformat_minor": 2
}
